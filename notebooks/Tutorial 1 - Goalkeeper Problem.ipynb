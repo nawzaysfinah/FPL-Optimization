{
 "cells": [
  {
   "cell_type": "code",
   "execution_count": 17,
   "id": "a5c190e1",
   "metadata": {},
   "outputs": [],
   "source": [
    "import pandas as pd\n",
    "import sasoptpy as so \n",
    "#Sertelp goes to FPLReview.com to get the .csv data"
   ]
  },
  {
   "cell_type": "code",
   "execution_count": 18,
   "id": "8fc1ab49",
   "metadata": {},
   "outputs": [],
   "source": [
    "df = pd.read_csv('../data/fpl_data.csv')"
   ]
  },
  {
   "cell_type": "code",
   "execution_count": 19,
   "id": "639ee2f7",
   "metadata": {},
   "outputs": [
    {
     "data": {
      "text/html": [
       "<div>\n",
       "<style scoped>\n",
       "    .dataframe tbody tr th:only-of-type {\n",
       "        vertical-align: middle;\n",
       "    }\n",
       "\n",
       "    .dataframe tbody tr th {\n",
       "        vertical-align: top;\n",
       "    }\n",
       "\n",
       "    .dataframe thead th {\n",
       "        text-align: right;\n",
       "    }\n",
       "</style>\n",
       "<table border=\"1\" class=\"dataframe\">\n",
       "  <thead>\n",
       "    <tr style=\"text-align: right;\">\n",
       "      <th></th>\n",
       "      <th>Unnamed: 0</th>\n",
       "      <th>second_name</th>\n",
       "      <th>team</th>\n",
       "      <th>element_type</th>\n",
       "      <th>selected_by_percent</th>\n",
       "      <th>now_cost</th>\n",
       "      <th>minutes</th>\n",
       "      <th>transfers_in</th>\n",
       "      <th>value_season</th>\n",
       "      <th>total_points</th>\n",
       "      <th>position</th>\n",
       "      <th>value</th>\n",
       "    </tr>\n",
       "  </thead>\n",
       "  <tbody>\n",
       "    <tr>\n",
       "      <th>0</th>\n",
       "      <td>0</td>\n",
       "      <td>Xhaka</td>\n",
       "      <td>Arsenal</td>\n",
       "      <td>3</td>\n",
       "      <td>2.6</td>\n",
       "      <td>49</td>\n",
       "      <td>2113</td>\n",
       "      <td>845792</td>\n",
       "      <td>19.2</td>\n",
       "      <td>94</td>\n",
       "      <td>Midfielder</td>\n",
       "      <td>19.2</td>\n",
       "    </tr>\n",
       "    <tr>\n",
       "      <th>1</th>\n",
       "      <td>1</td>\n",
       "      <td>Elneny</td>\n",
       "      <td>Arsenal</td>\n",
       "      <td>3</td>\n",
       "      <td>0.6</td>\n",
       "      <td>41</td>\n",
       "      <td>111</td>\n",
       "      <td>198337</td>\n",
       "      <td>1.5</td>\n",
       "      <td>6</td>\n",
       "      <td>Midfielder</td>\n",
       "      <td>1.5</td>\n",
       "    </tr>\n",
       "    <tr>\n",
       "      <th>2</th>\n",
       "      <td>2</td>\n",
       "      <td>Holding</td>\n",
       "      <td>Arsenal</td>\n",
       "      <td>2</td>\n",
       "      <td>0.1</td>\n",
       "      <td>42</td>\n",
       "      <td>17</td>\n",
       "      <td>7171</td>\n",
       "      <td>1.7</td>\n",
       "      <td>7</td>\n",
       "      <td>Defender</td>\n",
       "      <td>1.7</td>\n",
       "    </tr>\n",
       "    <tr>\n",
       "      <th>3</th>\n",
       "      <td>3</td>\n",
       "      <td>Partey</td>\n",
       "      <td>Arsenal</td>\n",
       "      <td>3</td>\n",
       "      <td>0.4</td>\n",
       "      <td>47</td>\n",
       "      <td>1681</td>\n",
       "      <td>101282</td>\n",
       "      <td>14.3</td>\n",
       "      <td>67</td>\n",
       "      <td>Midfielder</td>\n",
       "      <td>14.3</td>\n",
       "    </tr>\n",
       "    <tr>\n",
       "      <th>4</th>\n",
       "      <td>4</td>\n",
       "      <td>Ødegaard</td>\n",
       "      <td>Arsenal</td>\n",
       "      <td>3</td>\n",
       "      <td>37.3</td>\n",
       "      <td>70</td>\n",
       "      <td>2131</td>\n",
       "      <td>5467369</td>\n",
       "      <td>20.6</td>\n",
       "      <td>144</td>\n",
       "      <td>Midfielder</td>\n",
       "      <td>20.6</td>\n",
       "    </tr>\n",
       "  </tbody>\n",
       "</table>\n",
       "</div>"
      ],
      "text/plain": [
       "   Unnamed: 0 second_name     team  element_type  selected_by_percent  \\\n",
       "0           0       Xhaka  Arsenal             3                  2.6   \n",
       "1           1      Elneny  Arsenal             3                  0.6   \n",
       "2           2     Holding  Arsenal             2                  0.1   \n",
       "3           3      Partey  Arsenal             3                  0.4   \n",
       "4           4    Ødegaard  Arsenal             3                 37.3   \n",
       "\n",
       "   now_cost  minutes  transfers_in  value_season  total_points    position  \\\n",
       "0        49     2113        845792          19.2            94  Midfielder   \n",
       "1        41      111        198337           1.5             6  Midfielder   \n",
       "2        42       17          7171           1.7             7    Defender   \n",
       "3        47     1681        101282          14.3            67  Midfielder   \n",
       "4        70     2131       5467369          20.6           144  Midfielder   \n",
       "\n",
       "   value  \n",
       "0   19.2  \n",
       "1    1.5  \n",
       "2    1.7  \n",
       "3   14.3  \n",
       "4   20.6  "
      ]
     },
     "execution_count": 19,
     "metadata": {},
     "output_type": "execute_result"
    }
   ],
   "source": [
    "df.head()"
   ]
  },
  {
   "cell_type": "code",
   "execution_count": 20,
   "id": "03622a60",
   "metadata": {},
   "outputs": [],
   "source": [
    "gk_data = df[df['position'] == 'Goalkeeper'].copy().reset_index()"
   ]
  },
  {
   "cell_type": "code",
   "execution_count": 21,
   "id": "2f40b7ba",
   "metadata": {},
   "outputs": [
    {
     "data": {
      "text/html": [
       "<div>\n",
       "<style scoped>\n",
       "    .dataframe tbody tr th:only-of-type {\n",
       "        vertical-align: middle;\n",
       "    }\n",
       "\n",
       "    .dataframe tbody tr th {\n",
       "        vertical-align: top;\n",
       "    }\n",
       "\n",
       "    .dataframe thead th {\n",
       "        text-align: right;\n",
       "    }\n",
       "</style>\n",
       "<table border=\"1\" class=\"dataframe\">\n",
       "  <thead>\n",
       "    <tr style=\"text-align: right;\">\n",
       "      <th></th>\n",
       "      <th>index</th>\n",
       "      <th>Unnamed: 0</th>\n",
       "      <th>second_name</th>\n",
       "      <th>team</th>\n",
       "      <th>element_type</th>\n",
       "      <th>selected_by_percent</th>\n",
       "      <th>now_cost</th>\n",
       "      <th>minutes</th>\n",
       "      <th>transfers_in</th>\n",
       "      <th>value_season</th>\n",
       "      <th>total_points</th>\n",
       "      <th>position</th>\n",
       "      <th>value</th>\n",
       "    </tr>\n",
       "  </thead>\n",
       "  <tbody>\n",
       "    <tr>\n",
       "      <th>0</th>\n",
       "      <td>11</td>\n",
       "      <td>12</td>\n",
       "      <td>Ramsdale</td>\n",
       "      <td>Arsenal</td>\n",
       "      <td>1</td>\n",
       "      <td>12.1</td>\n",
       "      <td>49</td>\n",
       "      <td>2340</td>\n",
       "      <td>1469716</td>\n",
       "      <td>21.0</td>\n",
       "      <td>103</td>\n",
       "      <td>Goalkeeper</td>\n",
       "      <td>21.0</td>\n",
       "    </tr>\n",
       "    <tr>\n",
       "      <th>1</th>\n",
       "      <td>24</td>\n",
       "      <td>35</td>\n",
       "      <td>Martínez Romero</td>\n",
       "      <td>Aston Villa</td>\n",
       "      <td>1</td>\n",
       "      <td>4.4</td>\n",
       "      <td>49</td>\n",
       "      <td>2014</td>\n",
       "      <td>579222</td>\n",
       "      <td>15.9</td>\n",
       "      <td>78</td>\n",
       "      <td>Goalkeeper</td>\n",
       "      <td>15.9</td>\n",
       "    </tr>\n",
       "    <tr>\n",
       "      <th>2</th>\n",
       "      <td>27</td>\n",
       "      <td>39</td>\n",
       "      <td>Olsen</td>\n",
       "      <td>Aston Villa</td>\n",
       "      <td>1</td>\n",
       "      <td>1.6</td>\n",
       "      <td>39</td>\n",
       "      <td>235</td>\n",
       "      <td>114676</td>\n",
       "      <td>2.3</td>\n",
       "      <td>9</td>\n",
       "      <td>Goalkeeper</td>\n",
       "      <td>2.3</td>\n",
       "    </tr>\n",
       "    <tr>\n",
       "      <th>3</th>\n",
       "      <td>60</td>\n",
       "      <td>87</td>\n",
       "      <td>Travers</td>\n",
       "      <td>Bournemouth</td>\n",
       "      <td>1</td>\n",
       "      <td>0.4</td>\n",
       "      <td>42</td>\n",
       "      <td>945</td>\n",
       "      <td>63760</td>\n",
       "      <td>6.0</td>\n",
       "      <td>25</td>\n",
       "      <td>Goalkeeper</td>\n",
       "      <td>6.0</td>\n",
       "    </tr>\n",
       "    <tr>\n",
       "      <th>4</th>\n",
       "      <td>68</td>\n",
       "      <td>98</td>\n",
       "      <td>Murara Neto</td>\n",
       "      <td>Bournemouth</td>\n",
       "      <td>1</td>\n",
       "      <td>0.2</td>\n",
       "      <td>45</td>\n",
       "      <td>1305</td>\n",
       "      <td>60431</td>\n",
       "      <td>10.4</td>\n",
       "      <td>47</td>\n",
       "      <td>Goalkeeper</td>\n",
       "      <td>10.4</td>\n",
       "    </tr>\n",
       "  </tbody>\n",
       "</table>\n",
       "</div>"
      ],
      "text/plain": [
       "   index  Unnamed: 0      second_name         team  element_type  \\\n",
       "0     11          12         Ramsdale      Arsenal             1   \n",
       "1     24          35  Martínez Romero  Aston Villa             1   \n",
       "2     27          39            Olsen  Aston Villa             1   \n",
       "3     60          87          Travers  Bournemouth             1   \n",
       "4     68          98      Murara Neto  Bournemouth             1   \n",
       "\n",
       "   selected_by_percent  now_cost  minutes  transfers_in  value_season  \\\n",
       "0                 12.1        49     2340       1469716          21.0   \n",
       "1                  4.4        49     2014        579222          15.9   \n",
       "2                  1.6        39      235        114676           2.3   \n",
       "3                  0.4        42      945         63760           6.0   \n",
       "4                  0.2        45     1305         60431          10.4   \n",
       "\n",
       "   total_points    position  value  \n",
       "0           103  Goalkeeper   21.0  \n",
       "1            78  Goalkeeper   15.9  \n",
       "2             9  Goalkeeper    2.3  \n",
       "3            25  Goalkeeper    6.0  \n",
       "4            47  Goalkeeper   10.4  "
      ]
     },
     "execution_count": 21,
     "metadata": {},
     "output_type": "execute_result"
    }
   ],
   "source": [
    "gk_data.head()"
   ]
  },
  {
   "cell_type": "code",
   "execution_count": 22,
   "id": "ab3e5e31",
   "metadata": {},
   "outputs": [
    {
     "name": "stdout",
     "output_type": "stream",
     "text": [
      "NOTE: Initialized model gk_model.\n"
     ]
    }
   ],
   "source": [
    "model = so.Model(name='gk_model')"
   ]
  },
  {
   "cell_type": "code",
   "execution_count": 23,
   "id": "175bf654",
   "metadata": {},
   "outputs": [],
   "source": [
    "gk_data.set_index('index', inplace = True)"
   ]
  },
  {
   "cell_type": "code",
   "execution_count": 24,
   "id": "af4a260a",
   "metadata": {},
   "outputs": [
    {
     "data": {
      "text/html": [
       "<div>\n",
       "<style scoped>\n",
       "    .dataframe tbody tr th:only-of-type {\n",
       "        vertical-align: middle;\n",
       "    }\n",
       "\n",
       "    .dataframe tbody tr th {\n",
       "        vertical-align: top;\n",
       "    }\n",
       "\n",
       "    .dataframe thead th {\n",
       "        text-align: right;\n",
       "    }\n",
       "</style>\n",
       "<table border=\"1\" class=\"dataframe\">\n",
       "  <thead>\n",
       "    <tr style=\"text-align: right;\">\n",
       "      <th></th>\n",
       "      <th>Unnamed: 0</th>\n",
       "      <th>second_name</th>\n",
       "      <th>team</th>\n",
       "      <th>element_type</th>\n",
       "      <th>selected_by_percent</th>\n",
       "      <th>now_cost</th>\n",
       "      <th>minutes</th>\n",
       "      <th>transfers_in</th>\n",
       "      <th>value_season</th>\n",
       "      <th>total_points</th>\n",
       "      <th>position</th>\n",
       "      <th>value</th>\n",
       "    </tr>\n",
       "    <tr>\n",
       "      <th>index</th>\n",
       "      <th></th>\n",
       "      <th></th>\n",
       "      <th></th>\n",
       "      <th></th>\n",
       "      <th></th>\n",
       "      <th></th>\n",
       "      <th></th>\n",
       "      <th></th>\n",
       "      <th></th>\n",
       "      <th></th>\n",
       "      <th></th>\n",
       "      <th></th>\n",
       "    </tr>\n",
       "  </thead>\n",
       "  <tbody>\n",
       "    <tr>\n",
       "      <th>11</th>\n",
       "      <td>12</td>\n",
       "      <td>Ramsdale</td>\n",
       "      <td>Arsenal</td>\n",
       "      <td>1</td>\n",
       "      <td>12.1</td>\n",
       "      <td>49</td>\n",
       "      <td>2340</td>\n",
       "      <td>1469716</td>\n",
       "      <td>21.0</td>\n",
       "      <td>103</td>\n",
       "      <td>Goalkeeper</td>\n",
       "      <td>21.0</td>\n",
       "    </tr>\n",
       "    <tr>\n",
       "      <th>24</th>\n",
       "      <td>35</td>\n",
       "      <td>Martínez Romero</td>\n",
       "      <td>Aston Villa</td>\n",
       "      <td>1</td>\n",
       "      <td>4.4</td>\n",
       "      <td>49</td>\n",
       "      <td>2014</td>\n",
       "      <td>579222</td>\n",
       "      <td>15.9</td>\n",
       "      <td>78</td>\n",
       "      <td>Goalkeeper</td>\n",
       "      <td>15.9</td>\n",
       "    </tr>\n",
       "    <tr>\n",
       "      <th>27</th>\n",
       "      <td>39</td>\n",
       "      <td>Olsen</td>\n",
       "      <td>Aston Villa</td>\n",
       "      <td>1</td>\n",
       "      <td>1.6</td>\n",
       "      <td>39</td>\n",
       "      <td>235</td>\n",
       "      <td>114676</td>\n",
       "      <td>2.3</td>\n",
       "      <td>9</td>\n",
       "      <td>Goalkeeper</td>\n",
       "      <td>2.3</td>\n",
       "    </tr>\n",
       "    <tr>\n",
       "      <th>60</th>\n",
       "      <td>87</td>\n",
       "      <td>Travers</td>\n",
       "      <td>Bournemouth</td>\n",
       "      <td>1</td>\n",
       "      <td>0.4</td>\n",
       "      <td>42</td>\n",
       "      <td>945</td>\n",
       "      <td>63760</td>\n",
       "      <td>6.0</td>\n",
       "      <td>25</td>\n",
       "      <td>Goalkeeper</td>\n",
       "      <td>6.0</td>\n",
       "    </tr>\n",
       "    <tr>\n",
       "      <th>68</th>\n",
       "      <td>98</td>\n",
       "      <td>Murara Neto</td>\n",
       "      <td>Bournemouth</td>\n",
       "      <td>1</td>\n",
       "      <td>0.2</td>\n",
       "      <td>45</td>\n",
       "      <td>1305</td>\n",
       "      <td>60431</td>\n",
       "      <td>10.4</td>\n",
       "      <td>47</td>\n",
       "      <td>Goalkeeper</td>\n",
       "      <td>10.4</td>\n",
       "    </tr>\n",
       "  </tbody>\n",
       "</table>\n",
       "</div>"
      ],
      "text/plain": [
       "       Unnamed: 0      second_name         team  element_type  \\\n",
       "index                                                           \n",
       "11             12         Ramsdale      Arsenal             1   \n",
       "24             35  Martínez Romero  Aston Villa             1   \n",
       "27             39            Olsen  Aston Villa             1   \n",
       "60             87          Travers  Bournemouth             1   \n",
       "68             98      Murara Neto  Bournemouth             1   \n",
       "\n",
       "       selected_by_percent  now_cost  minutes  transfers_in  value_season  \\\n",
       "index                                                                       \n",
       "11                    12.1        49     2340       1469716          21.0   \n",
       "24                     4.4        49     2014        579222          15.9   \n",
       "27                     1.6        39      235        114676           2.3   \n",
       "60                     0.4        42      945         63760           6.0   \n",
       "68                     0.2        45     1305         60431          10.4   \n",
       "\n",
       "       total_points    position  value  \n",
       "index                                   \n",
       "11              103  Goalkeeper   21.0  \n",
       "24               78  Goalkeeper   15.9  \n",
       "27                9  Goalkeeper    2.3  \n",
       "60               25  Goalkeeper    6.0  \n",
       "68               47  Goalkeeper   10.4  "
      ]
     },
     "execution_count": 24,
     "metadata": {},
     "output_type": "execute_result"
    }
   ],
   "source": [
    "gk_data.head()"
   ]
  },
  {
   "cell_type": "code",
   "execution_count": 25,
   "id": "a3b595db",
   "metadata": {},
   "outputs": [],
   "source": [
    "players = gk_data.index.tolist()"
   ]
  },
  {
   "cell_type": "code",
   "execution_count": 26,
   "id": "4527655d",
   "metadata": {},
   "outputs": [
    {
     "data": {
      "text/plain": [
       "[11,\n",
       " 24,\n",
       " 27,\n",
       " 60,\n",
       " 68,\n",
       " 78,\n",
       " 101,\n",
       " 108,\n",
       " 129,\n",
       " 139,\n",
       " 156,\n",
       " 180,\n",
       " 185,\n",
       " 206,\n",
       " 217,\n",
       " 237,\n",
       " 271,\n",
       " 294,\n",
       " 321,\n",
       " 337,\n",
       " 364,\n",
       " 382,\n",
       " 399,\n",
       " 404,\n",
       " 416,\n",
       " 436,\n",
       " 448,\n",
       " 449,\n",
       " 476,\n",
       " 490,\n",
       " 502]"
      ]
     },
     "execution_count": 26,
     "metadata": {},
     "output_type": "execute_result"
    }
   ],
   "source": [
    "players"
   ]
  },
  {
   "cell_type": "code",
   "execution_count": 27,
   "id": "d142cd61",
   "metadata": {},
   "outputs": [],
   "source": [
    "lineup = model.add_variables(players, name='lineup', vartype=so.binary)"
   ]
  },
  {
   "cell_type": "code",
   "execution_count": 30,
   "id": "c7448193",
   "metadata": {},
   "outputs": [
    {
     "data": {
      "text/plain": [
       "sasoptpy.Variable(name='lineup[11]', lb=0, ub=1, vartype='BIN')"
      ]
     },
     "execution_count": 30,
     "metadata": {},
     "output_type": "execute_result"
    }
   ],
   "source": [
    "lineup[11]"
   ]
  },
  {
   "cell_type": "code",
   "execution_count": 34,
   "id": "6d3929f4",
   "metadata": {},
   "outputs": [],
   "source": [
    "bench = model.add_variables(players, name='bench',vartype=so.binary)"
   ]
  },
  {
   "cell_type": "code",
   "execution_count": 37,
   "id": "524d55ae",
   "metadata": {},
   "outputs": [],
   "source": [
    "total_xp = so.expr_sum(lineup[p] * gk_data.loc[p, 'value_season'] for p in players) + 0.1 * (so.expr_sum(bench[p] * gk_data.loc[p, 'value_season'] for p in players))"
   ]
  },
  {
   "cell_type": "code",
   "execution_count": 38,
   "id": "9d2c99a3",
   "metadata": {},
   "outputs": [
    {
     "data": {
      "text/plain": [
       "sasoptpy.Expression(exp = 21.0 * lineup[11] + 15.9 * lineup[24] + 2.3 * lineup[27] + 6.0 * lineup[60] + 10.4 * lineup[68] + 22.7 * lineup[78] + 1.5 * lineup[101] + 17.6 * lineup[108] + 17.9 * lineup[129] + 4.8 * lineup[139] + 21.4 * lineup[156] + 2.3 * lineup[180] + 17.5 * lineup[185] + 22.4 * lineup[206] + 1.6 * lineup[217] + 22.2 * lineup[237] + 17.8 * lineup[271] + 21.7 * lineup[294] + 17.0 * lineup[321] + 19.2 * lineup[337] + 2.0 * lineup[364] + 19.6 * lineup[382] + 17.8 * lineup[399] + lineup[404] + 3.3 * lineup[416] + 15.6 * lineup[436] + 15.2 * lineup[448] + 4.4 * lineup[449] + 17.2 * lineup[476] + 0.9 * lineup[490] + 21.6 * lineup[502] + 2.1 * bench[11] + 1.59 * bench[24] + 0.23 * bench[27] + 0.6 * bench[60] + 1.04 * bench[68] + 2.27 * bench[78] + 0.15 * bench[101] + 1.76 * bench[108] + 1.79 * bench[129] + 0.48 * bench[139] + 2.14 * bench[156] + 0.23 * bench[180] + 1.75 * bench[185] + 2.24 * bench[206] + 0.16 * bench[217] + 2.22 * bench[237] + 1.78 * bench[271] + 2.17 * bench[294] + 1.7 * bench[321] + 1.92 * bench[337] + 0.2 * bench[364] + 1.96 * bench[382] + 1.78 * bench[399] + 0.1 * bench[404] + 0.33 * bench[416] + 1.56 * bench[436] + 1.52 * bench[448] + 0.44 * bench[449] + 1.72 * bench[476] + 0.09 * bench[490] + 2.16 * bench[502], name=None)"
      ]
     },
     "execution_count": 38,
     "metadata": {},
     "output_type": "execute_result"
    }
   ],
   "source": [
    "total_xp"
   ]
  },
  {
   "cell_type": "code",
   "execution_count": 39,
   "id": "04c2173f",
   "metadata": {},
   "outputs": [
    {
     "data": {
      "text/plain": [
       "sasoptpy.Expression(exp = 21.0 * lineup[11] + 15.9 * lineup[24] + 2.3 * lineup[27] + 6.0 * lineup[60] + 10.4 * lineup[68] + 22.7 * lineup[78] + 1.5 * lineup[101] + 17.6 * lineup[108] + 17.9 * lineup[129] + 4.8 * lineup[139] + 21.4 * lineup[156] + 2.3 * lineup[180] + 17.5 * lineup[185] + 22.4 * lineup[206] + 1.6 * lineup[217] + 22.2 * lineup[237] + 17.8 * lineup[271] + 21.7 * lineup[294] + 17.0 * lineup[321] + 19.2 * lineup[337] + 2.0 * lineup[364] + 19.6 * lineup[382] + 17.8 * lineup[399] + lineup[404] + 3.3 * lineup[416] + 15.6 * lineup[436] + 15.2 * lineup[448] + 4.4 * lineup[449] + 17.2 * lineup[476] + 0.9 * lineup[490] + 21.6 * lineup[502] + 2.1 * bench[11] + 1.59 * bench[24] + 0.23 * bench[27] + 0.6 * bench[60] + 1.04 * bench[68] + 2.27 * bench[78] + 0.15 * bench[101] + 1.76 * bench[108] + 1.79 * bench[129] + 0.48 * bench[139] + 2.14 * bench[156] + 0.23 * bench[180] + 1.75 * bench[185] + 2.24 * bench[206] + 0.16 * bench[217] + 2.22 * bench[237] + 1.78 * bench[271] + 2.17 * bench[294] + 1.7 * bench[321] + 1.92 * bench[337] + 0.2 * bench[364] + 1.96 * bench[382] + 1.78 * bench[399] + 0.1 * bench[404] + 0.33 * bench[416] + 1.56 * bench[436] + 1.52 * bench[448] + 0.44 * bench[449] + 1.72 * bench[476] + 0.09 * bench[490] + 2.16 * bench[502], name='total_xp_obj')"
      ]
     },
     "execution_count": 39,
     "metadata": {},
     "output_type": "execute_result"
    }
   ],
   "source": [
    "model.set_objective(total_xp, name='total_xp_obj', sense=so.maximize)"
   ]
  },
  {
   "cell_type": "code",
   "execution_count": 41,
   "id": "11362e82",
   "metadata": {},
   "outputs": [],
   "source": [
    "model.add_constraints((lineup[p]+ bench[p] <= 1 for p in players), name='lineup_or_bench');"
   ]
  },
  {
   "cell_type": "code",
   "execution_count": 42,
   "id": "e213b4c6",
   "metadata": {},
   "outputs": [],
   "source": [
    "model.add_constraint(so.expr_sum(lineup[p] for p in players) ==1, name = 'single_lineup');"
   ]
  },
  {
   "cell_type": "code",
   "execution_count": 45,
   "id": "adc9c116",
   "metadata": {},
   "outputs": [],
   "source": [
    "model.add_constraint(so.expr_sum(bench[p] for p in players) ==1, name = 'single_bench');"
   ]
  },
  {
   "cell_type": "code",
   "execution_count": 49,
   "id": "b9c780d0",
   "metadata": {},
   "outputs": [
    {
     "ename": "TypeError",
     "evalue": "__call__() takes from 1 to 2 positional arguments but 3 were given",
     "output_type": "error",
     "traceback": [
      "\u001b[1;31m---------------------------------------------------------------------------\u001b[0m",
      "\u001b[1;31mTypeError\u001b[0m                                 Traceback (most recent call last)",
      "\u001b[1;32m~\\AppData\\Local\\Temp\\ipykernel_15596\\528658883.py\u001b[0m in \u001b[0;36m<module>\u001b[1;34m\u001b[0m\n\u001b[0;32m      1\u001b[0m \u001b[0mbudget\u001b[0m \u001b[1;33m=\u001b[0m \u001b[1;36m9.2\u001b[0m\u001b[1;33m\u001b[0m\u001b[1;33m\u001b[0m\u001b[0m\n\u001b[1;32m----> 2\u001b[1;33m \u001b[0mmodel\u001b[0m\u001b[1;33m.\u001b[0m\u001b[0madd_constraint\u001b[0m\u001b[1;33m(\u001b[0m\u001b[0mso\u001b[0m\u001b[1;33m.\u001b[0m\u001b[0mexpr_sum\u001b[0m\u001b[1;33m(\u001b[0m\u001b[1;33m(\u001b[0m\u001b[0mlineup\u001b[0m\u001b[1;33m[\u001b[0m\u001b[0mp\u001b[0m\u001b[1;33m]\u001b[0m\u001b[1;33m+\u001b[0m \u001b[0mbench\u001b[0m\u001b[1;33m[\u001b[0m\u001b[0mp\u001b[0m\u001b[1;33m]\u001b[0m\u001b[1;33m)\u001b[0m\u001b[1;33m*\u001b[0m \u001b[0mgk_data\u001b[0m\u001b[1;33m.\u001b[0m\u001b[0mloc\u001b[0m\u001b[1;33m(\u001b[0m\u001b[0mp\u001b[0m\u001b[1;33m,\u001b[0m\u001b[1;34m'value'\u001b[0m\u001b[1;33m)\u001b[0m \u001b[1;32mfor\u001b[0m \u001b[0mp\u001b[0m \u001b[1;32min\u001b[0m \u001b[0mplayers\u001b[0m\u001b[1;33m)\u001b[0m \u001b[1;33m<=\u001b[0m \u001b[0mbudget\u001b[0m\u001b[1;33m,\u001b[0m \u001b[0mname\u001b[0m\u001b[1;33m=\u001b[0m\u001b[1;34m'budget_con'\u001b[0m\u001b[1;33m)\u001b[0m\u001b[1;33m\u001b[0m\u001b[1;33m\u001b[0m\u001b[0m\n\u001b[0m",
      "\u001b[1;32mC:\\RoboDK\\Python37\\lib\\site-packages\\sasoptpy\\util\\user_utils.py\u001b[0m in \u001b[0;36mexpr_sum\u001b[1;34m(argv)\u001b[0m\n\u001b[0;32m    242\u001b[0m     \u001b[0mexp\u001b[0m\u001b[1;33m.\u001b[0m\u001b[0mset_temporary\u001b[0m\u001b[1;33m(\u001b[0m\u001b[1;33m)\u001b[0m\u001b[1;33m\u001b[0m\u001b[1;33m\u001b[0m\u001b[0m\n\u001b[0;32m    243\u001b[0m     \u001b[0miterators\u001b[0m \u001b[1;33m=\u001b[0m \u001b[1;33m[\u001b[0m\u001b[1;33m]\u001b[0m\u001b[1;33m\u001b[0m\u001b[1;33m\u001b[0m\u001b[0m\n\u001b[1;32m--> 244\u001b[1;33m     \u001b[1;32mfor\u001b[0m \u001b[0mi\u001b[0m \u001b[1;32min\u001b[0m \u001b[0margv\u001b[0m\u001b[1;33m:\u001b[0m\u001b[1;33m\u001b[0m\u001b[1;33m\u001b[0m\u001b[0m\n\u001b[0m\u001b[0;32m    245\u001b[0m         \u001b[0mexp\u001b[0m \u001b[1;33m=\u001b[0m \u001b[0mexp\u001b[0m \u001b[1;33m+\u001b[0m \u001b[0mi\u001b[0m\u001b[1;33m\u001b[0m\u001b[1;33m\u001b[0m\u001b[0m\n\u001b[0;32m    246\u001b[0m         \u001b[1;32mif\u001b[0m \u001b[0msasoptpy\u001b[0m\u001b[1;33m.\u001b[0m\u001b[0mcore\u001b[0m\u001b[1;33m.\u001b[0m\u001b[0mutil\u001b[0m\u001b[1;33m.\u001b[0m\u001b[0mis_expression\u001b[0m\u001b[1;33m(\u001b[0m\u001b[0mi\u001b[0m\u001b[1;33m)\u001b[0m\u001b[1;33m:\u001b[0m\u001b[1;33m\u001b[0m\u001b[1;33m\u001b[0m\u001b[0m\n",
      "\u001b[1;32m~\\AppData\\Local\\Temp\\ipykernel_15596\\528658883.py\u001b[0m in \u001b[0;36m<genexpr>\u001b[1;34m(.0)\u001b[0m\n\u001b[0;32m      1\u001b[0m \u001b[0mbudget\u001b[0m \u001b[1;33m=\u001b[0m \u001b[1;36m9.2\u001b[0m\u001b[1;33m\u001b[0m\u001b[1;33m\u001b[0m\u001b[0m\n\u001b[1;32m----> 2\u001b[1;33m \u001b[0mmodel\u001b[0m\u001b[1;33m.\u001b[0m\u001b[0madd_constraint\u001b[0m\u001b[1;33m(\u001b[0m\u001b[0mso\u001b[0m\u001b[1;33m.\u001b[0m\u001b[0mexpr_sum\u001b[0m\u001b[1;33m(\u001b[0m\u001b[1;33m(\u001b[0m\u001b[0mlineup\u001b[0m\u001b[1;33m[\u001b[0m\u001b[0mp\u001b[0m\u001b[1;33m]\u001b[0m\u001b[1;33m+\u001b[0m \u001b[0mbench\u001b[0m\u001b[1;33m[\u001b[0m\u001b[0mp\u001b[0m\u001b[1;33m]\u001b[0m\u001b[1;33m)\u001b[0m\u001b[1;33m*\u001b[0m \u001b[0mgk_data\u001b[0m\u001b[1;33m.\u001b[0m\u001b[0mloc\u001b[0m\u001b[1;33m(\u001b[0m\u001b[0mp\u001b[0m\u001b[1;33m,\u001b[0m\u001b[1;34m'value'\u001b[0m\u001b[1;33m)\u001b[0m \u001b[1;32mfor\u001b[0m \u001b[0mp\u001b[0m \u001b[1;32min\u001b[0m \u001b[0mplayers\u001b[0m\u001b[1;33m)\u001b[0m \u001b[1;33m<=\u001b[0m \u001b[0mbudget\u001b[0m\u001b[1;33m,\u001b[0m \u001b[0mname\u001b[0m\u001b[1;33m=\u001b[0m\u001b[1;34m'budget_con'\u001b[0m\u001b[1;33m)\u001b[0m\u001b[1;33m\u001b[0m\u001b[1;33m\u001b[0m\u001b[0m\n\u001b[0m",
      "\u001b[1;31mTypeError\u001b[0m: __call__() takes from 1 to 2 positional arguments but 3 were given"
     ]
    }
   ],
   "source": [
    "budget = 9.2\n",
    "model.add_constraint(so.expr_sum((lineup[p]+ bench[p])* gk_data.loc(p,'value') for p in players) <= budget, name='budget_con')"
   ]
  },
  {
   "cell_type": "code",
   "execution_count": null,
   "id": "a2058741",
   "metadata": {},
   "outputs": [],
   "source": []
  }
 ],
 "metadata": {
  "kernelspec": {
   "display_name": "Python 3 (ipykernel)",
   "language": "python",
   "name": "python3"
  },
  "language_info": {
   "codemirror_mode": {
    "name": "ipython",
    "version": 3
   },
   "file_extension": ".py",
   "mimetype": "text/x-python",
   "name": "python",
   "nbconvert_exporter": "python",
   "pygments_lexer": "ipython3",
   "version": "3.7.3"
  }
 },
 "nbformat": 4,
 "nbformat_minor": 5
}
