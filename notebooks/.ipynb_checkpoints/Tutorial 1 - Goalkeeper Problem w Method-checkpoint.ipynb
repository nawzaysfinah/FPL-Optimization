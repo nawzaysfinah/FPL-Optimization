{
 "cells": [
  {
   "cell_type": "code",
   "execution_count": 8,
   "id": "ea515305",
   "metadata": {},
   "outputs": [],
   "source": [
    "import pandas as pd\n",
    "import sasoptpy as so\n",
    "import os"
   ]
  },
  {
   "cell_type": "code",
   "execution_count": 2,
   "id": "f451e559",
   "metadata": {},
   "outputs": [],
   "source": [
    "df = pd.read_csv('../data/fpl_data.csv')\n",
    "gk_data = df[df['position'] == 'Goalkeeper'].copy().reset_index()\n",
    "gk_data.set_index('index', inplace = True)"
   ]
  },
  {
   "cell_type": "code",
   "execution_count": 16,
   "id": "ee46e620",
   "metadata": {},
   "outputs": [],
   "source": [
    "def solve_goalkeeper_problem(gk_data, budget):\n",
    "    model = so.Model(name='gk_model')\n",
    "    players = gk_data.index.tolist()\n",
    "    \n",
    "    # Variables\n",
    "    lineup = model.add_variables(players, name='lineup', vartype=so.binary)\n",
    "    bench = model.add_variables(players, name='bench',vartype=so.binary)\n",
    "    \n",
    "    # Objectives\n",
    "    total_xp = so.expr_sum(lineup[p] * gk_data.loc[p, 'value_season'] for p in players) + 0.1 * (so.expr_sum(bench[p] * gk_data.loc[p, 'value_season'] for p in players))\n",
    "    model.set_objective(-total_xp, name='total_xp_obj', sense='N')\n",
    "    # Constraints\n",
    "    model.add_constraints((lineup[p]+ bench[p] <= 1 for p in players), name='lineup_or_bench')\n",
    "    model.add_constraint(so.expr_sum(lineup[p] for p in players) ==1, name = 'single_lineup')\n",
    "    model.add_constraint(so.expr_sum(bench[p] for p in players) ==1, name = 'single_bench')\n",
    "    model.add_constraint(so.expr_sum((lineup[p] + bench [p]) * gk_data.loc[p,'now_cost'] for p in players) <= budget, name='budget_con')\n",
    "    \n",
    "    # Solve Step\n",
    "    model.export_mps(filename='gk.mps')\n",
    "    command = 'cbc gk.mps solve solu solution.txt'\n",
    "    # !{command}\n",
    "    os.system(command)\n",
    "    \n",
    "    with open('solution.txt', 'r') as f:\n",
    "        for v in model.get_variables():\n",
    "            v.set_value(0)\n",
    "        for line in f:\n",
    "            if 'objective value' in line:\n",
    "                continue\n",
    "            words = line.split()\n",
    "            var = model.get_variable(words[1])\n",
    "            var.set_value(float(words[2]))\n",
    "        \n",
    "        print(\"LINEUP\")\n",
    "        for p in players:\n",
    "            if lineup[p].get_value() > 0.5:\n",
    "                print(p,gk_data.loc[p])\n",
    "\n",
    "        print(\"BENCH\")\n",
    "        for p in players:\n",
    "            if bench[p].get_value() > 0.5:\n",
    "                print(p,gk_data.loc[p])"
   ]
  },
  {
   "cell_type": "code",
   "execution_count": 19,
   "id": "21033175",
   "metadata": {},
   "outputs": [
    {
     "name": "stdout",
     "output_type": "stream",
     "text": [
      "NOTE: Initialized model gk_model.\n",
      "LINEUP\n",
      "78 Unnamed: 0                     117\n",
      "second_name            Raya Martin\n",
      "team                     Brentford\n",
      "element_type                     1\n",
      "selected_by_percent           13.9\n",
      "now_cost                        48\n",
      "minutes                       2160\n",
      "transfers_in               2007799\n",
      "value_season                  22.7\n",
      "total_points                   109\n",
      "position                Goalkeeper\n",
      "value                         22.7\n",
      "Name: 78, dtype: object\n",
      "BENCH\n",
      "206 Unnamed: 0                    304\n",
      "second_name                  Leno\n",
      "team                       Fulham\n",
      "element_type                    1\n",
      "selected_by_percent           3.4\n",
      "now_cost                       45\n",
      "minutes                      2160\n",
      "transfers_in               486827\n",
      "value_season                 22.4\n",
      "total_points                  101\n",
      "position               Goalkeeper\n",
      "value                        22.4\n",
      "Name: 206, dtype: object\n"
     ]
    }
   ],
   "source": [
    "solve_goalkeeper_problem(gk_data,150)"
   ]
  },
  {
   "cell_type": "code",
   "execution_count": null,
   "id": "bfffe426",
   "metadata": {},
   "outputs": [],
   "source": []
  }
 ],
 "metadata": {
  "kernelspec": {
   "display_name": "Python 3 (ipykernel)",
   "language": "python",
   "name": "python3"
  },
  "language_info": {
   "codemirror_mode": {
    "name": "ipython",
    "version": 3
   },
   "file_extension": ".py",
   "mimetype": "text/x-python",
   "name": "python",
   "nbconvert_exporter": "python",
   "pygments_lexer": "ipython3",
   "version": "3.7.3"
  }
 },
 "nbformat": 4,
 "nbformat_minor": 5
}
