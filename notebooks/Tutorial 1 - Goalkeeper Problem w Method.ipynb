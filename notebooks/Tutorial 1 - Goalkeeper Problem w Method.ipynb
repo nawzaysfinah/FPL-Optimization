{
 "cells": [
  {
   "cell_type": "code",
   "execution_count": 1,
   "id": "a9b1b5fa",
   "metadata": {},
   "outputs": [],
   "source": [
    "import pandas as pd\n",
    "import sasoptpy as so\n",
    "import os\n",
    "import time"
   ]
  },
  {
   "cell_type": "code",
   "execution_count": 2,
   "id": "92ca9891",
   "metadata": {},
   "outputs": [],
   "source": [
    "t0 = time.time()"
   ]
  },
  {
   "cell_type": "code",
   "execution_count": 3,
   "id": "97fd3482",
   "metadata": {},
   "outputs": [],
   "source": [
    "df = pd.read_csv('../data/fpl_data.csv')\n",
    "gk_data = df[df['position'] == 'Goalkeeper'].copy().reset_index()\n",
    "gk_data.set_index('index', inplace = True)"
   ]
  },
  {
   "cell_type": "code",
   "execution_count": 4,
   "id": "c980df59",
   "metadata": {},
   "outputs": [],
   "source": [
    "def solve_goalkeeper_problem(gk_data, budget):\n",
    "    model = so.Model(name='gk_model')\n",
    "    players = gk_data.index.tolist()\n",
    "    \n",
    "    # Variables\n",
    "    lineup = model.add_variables(players, name='lineup', vartype=so.binary)\n",
    "    bench = model.add_variables(players, name='bench',vartype=so.binary)\n",
    "    \n",
    "    # Objectives\n",
    "    total_xp = so.expr_sum(lineup[p] * gk_data.loc[p, 'value_season'] for p in players) + 0.1 * (so.expr_sum(bench[p] * gk_data.loc[p, 'value_season'] for p in players))\n",
    "    model.set_objective(-total_xp, name='total_xp_obj', sense='N')\n",
    "    \n",
    "    # Constraints\n",
    "    model.add_constraints((lineup[p]+ bench[p] <= 1 for p in players), name='lineup_or_bench')\n",
    "    model.add_constraint(so.expr_sum(lineup[p] for p in players) ==1, name = 'single_lineup')\n",
    "    model.add_constraint(so.expr_sum(bench[p] for p in players) ==1, name = 'single_bench')\n",
    "    model.add_constraint(so.expr_sum((lineup[p] + bench [p]) * gk_data.loc[p,'now_cost'] for p in players) <= budget, name='budget_con')\n",
    "    \n",
    "    # Solve Step\n",
    "    model.export_mps(filename='gk.mps')\n",
    "    command = 'cbc gk.mps solve solu solution.txt'\n",
    "    # !{command} # jupyter notebook way of calling command to see log\n",
    "    os.system(command) # using os way of calling command, to not display log\n",
    "    \n",
    "    with open('solution.txt', 'r') as f:\n",
    "        for v in model.get_variables():\n",
    "            v.set_value(0)\n",
    "        for line in f:\n",
    "            if 'objective value' in line:\n",
    "                continue\n",
    "            words = line.split()\n",
    "            var = model.get_variable(words[1])\n",
    "            var.set_value(float(words[2]))\n",
    "        \n",
    "        print(\"LINEUP\")\n",
    "        for p in players:\n",
    "            if lineup[p].get_value() > 0.5:\n",
    "                print(p,gk_data.loc[p])\n",
    "\n",
    "        print(\"BENCH\")\n",
    "        for p in players:\n",
    "            if bench[p].get_value() > 0.5:\n",
    "                print(p,gk_data.loc[p])"
   ]
  },
  {
   "cell_type": "code",
   "execution_count": 8,
   "id": "62353e2d",
   "metadata": {},
   "outputs": [
    {
     "name": "stdout",
     "output_type": "stream",
     "text": [
      "NOTE: Initialized model gk_model.\n",
      "LINEUP\n",
      "78 Unnamed: 0                     117\n",
      "second_name            Raya Martin\n",
      "team                     Brentford\n",
      "element_type                     1\n",
      "selected_by_percent           13.9\n",
      "now_cost                        48\n",
      "minutes                       2160\n",
      "transfers_in               2007799\n",
      "value_season                  22.7\n",
      "total_points                   109\n",
      "position                Goalkeeper\n",
      "value                         22.7\n",
      "Name: 78, dtype: object\n",
      "BENCH\n",
      "237 Unnamed: 0                    349\n",
      "second_name                  Ward\n",
      "team                    Leicester\n",
      "element_type                    1\n",
      "selected_by_percent          25.6\n",
      "now_cost                       40\n",
      "minutes                      2250\n",
      "transfers_in              2312609\n",
      "value_season                 22.2\n",
      "total_points                   89\n",
      "position               Goalkeeper\n",
      "value                        22.2\n",
      "Name: 237, dtype: object\n"
     ]
    }
   ],
   "source": [
    "solve_goalkeeper_problem(gk_data,88)"
   ]
  },
  {
   "cell_type": "code",
   "execution_count": 6,
   "id": "2cb2a9c0",
   "metadata": {},
   "outputs": [
    {
     "name": "stdout",
     "output_type": "stream",
     "text": [
      "0.47319531440734863 seconds\n"
     ]
    }
   ],
   "source": [
    "t1 = time.time()\n",
    "print(t1-t0, 'seconds')"
   ]
  }
 ],
 "metadata": {
  "kernelspec": {
   "display_name": "Python 3 (ipykernel)",
   "language": "python",
   "name": "python3"
  },
  "language_info": {
   "codemirror_mode": {
    "name": "ipython",
    "version": 3
   },
   "file_extension": ".py",
   "mimetype": "text/x-python",
   "name": "python",
   "nbconvert_exporter": "python",
   "pygments_lexer": "ipython3",
   "version": "3.7.3"
  }
 },
 "nbformat": 4,
 "nbformat_minor": 5
}
